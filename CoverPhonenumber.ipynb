{
 "cells": [
  {
   "cell_type": "markdown",
   "metadata": {},
   "source": [
    "문제1 ---------------------------------------------------  "
   ]
  },
  {
   "cell_type": "code",
   "execution_count": 38,
   "metadata": {},
   "outputs": [
    {
     "data": {
      "text/plain": [
       "'bcdef'"
      ]
     },
     "execution_count": 38,
     "metadata": {},
     "output_type": "execute_result"
    }
   ],
   "source": [
    "a = 'abcdef'\n",
    "a[-5:]"
   ]
  },
  {
   "cell_type": "code",
   "execution_count": 59,
   "metadata": {},
   "outputs": [],
   "source": [
    "numbers = '010-99946-23446'"
   ]
  },
  {
   "cell_type": "code",
   "execution_count": 60,
   "metadata": {},
   "outputs": [
    {
     "data": {
      "text/plain": [
       "'010-99946-#####'"
      ]
     },
     "execution_count": 60,
     "metadata": {},
     "output_type": "execute_result"
    }
   ],
   "source": [
    "def CoverPhoneNumber(phonenumber):\n",
    "    return phonenumber.replace(phonenumber[-5:],'#####')\n",
    "    \n",
    "\n",
    "CoverPhoneNumber(numbers)"
   ]
  },
  {
   "cell_type": "markdown",
   "metadata": {},
   "source": [
    "문제2 ---------------------------------------------------  "
   ]
  },
  {
   "cell_type": "code",
   "execution_count": 48,
   "metadata": {},
   "outputs": [
    {
     "name": "stdout",
     "output_type": "stream",
     "text": [
      "1\n",
      "2\n",
      "3\n",
      "4\n",
      "5\n"
     ]
    }
   ],
   "source": [
    "group = [1,2,3,4,5]\n",
    "\n",
    "for i in group:\n",
    "  print(i)"
   ]
  },
  {
   "cell_type": "code",
   "execution_count": 56,
   "metadata": {},
   "outputs": [
    {
     "data": {
      "text/plain": [
       "[10, 11, 1, 2, 3, 4, 5, 3, 4, 224, 444, 556, 6, 7, 8, 9]"
      ]
     },
     "execution_count": 56,
     "metadata": {},
     "output_type": "execute_result"
    }
   ],
   "source": [
    "overlap = [10, 11, [1, 2], 3, [[4, 5, [3,4,224,444,556], 6], 7], 8, 9]\n",
    "\n",
    "answer = []\n",
    "def untie(Overlapping):\n",
    "  for i in Overlapping:\n",
    "    if type(i) == list:\n",
    "      untie(i)\n",
    "    else:      \n",
    "      answer.append(i)\n",
    "  return answer\n",
    "\n",
    "\n",
    "untie(overlap)"
   ]
  },
  {
   "cell_type": "code",
   "execution_count": 28,
   "metadata": {},
   "outputs": [],
   "source": [
    "a = 0"
   ]
  },
  {
   "cell_type": "code",
   "execution_count": 29,
   "metadata": {},
   "outputs": [
    {
     "data": {
      "text/plain": [
       "int"
      ]
     },
     "execution_count": 29,
     "metadata": {},
     "output_type": "execute_result"
    }
   ],
   "source": [
    "type(a)"
   ]
  },
  {
   "cell_type": "markdown",
   "metadata": {},
   "source": [
    "#강의 시청 후 코드 수정"
   ]
  },
  {
   "cell_type": "code",
   "execution_count": 57,
   "metadata": {},
   "outputs": [
    {
     "data": {
      "text/plain": [
       "[10, 11, 1, 2, 3, 4, 5, 3, 4, 224, 444, 556, 6, 7, 8, 9]"
      ]
     },
     "execution_count": 57,
     "metadata": {},
     "output_type": "execute_result"
    }
   ],
   "source": [
    "overlap = [10, 11, [1, 2], 3, [[4, 5, [3,4,224,444,556], 6], 7], 8, 9]\n",
    "\n",
    "def untie(Overlapping):\n",
    "  answer = []\n",
    "  for i in Overlapping:\n",
    "    if type(i) == list:\n",
    "      answer = answer + untie(i)\n",
    "    else:      \n",
    "      answer.append(i)\n",
    "  return answer\n",
    "\n",
    "untie(overlap)\n"
   ]
  },
  {
   "cell_type": "markdown",
   "metadata": {},
   "source": [
    "문제3 ---------------------------------------------------  \n",
    "\n",
    "10 이하 숫자만 곱해주는 함수"
   ]
  },
  {
   "cell_type": "code",
   "execution_count": null,
   "metadata": {},
   "outputs": [],
   "source": [
    "#만들 함수는 input 값이 둘다 정수라면 두 정수를 나눴을 때의 값을 구해주고,\n",
    "# 입력된 값이 정수가 아니라면 '정수만 계산 가능합니다'라고 출력하고 결과값은 None으로 출력하는 함수입니다."
   ]
  },
  {
   "cell_type": "code",
   "execution_count": 107,
   "metadata": {},
   "outputs": [
    {
     "name": "stdout",
     "output_type": "stream",
     "text": [
      "1.0\n"
     ]
    }
   ],
   "source": [
    "a=2\n",
    "b=2\n",
    "\n",
    "if a%1==0 and b%1==0:\n",
    "  answer = a/b\n",
    "  print(answer)\n",
    "else:\n",
    "  print('정수만 계산 가능합니다')\n"
   ]
  },
  {
   "cell_type": "code",
   "execution_count": 106,
   "metadata": {},
   "outputs": [],
   "source": [
    "def multiply_under10():\n",
    "  if a%1==0 and b%1==0:\n",
    "    answer = a/b\n",
    "    return(answer)\n",
    "  else:\n",
    "    print('정수만 계산 가능합니다')\n",
    "    return(None)\n",
    "\n"
   ]
  },
  {
   "cell_type": "code",
   "execution_count": 74,
   "metadata": {},
   "outputs": [
    {
     "name": "stdout",
     "output_type": "stream",
     "text": [
      "정수만 계산 가능합니다\n"
     ]
    }
   ],
   "source": [
    "a=1\n",
    "b=2.2\n",
    "\n",
    "multiply_under10()"
   ]
  },
  {
   "cell_type": "code",
   "execution_count": 99,
   "metadata": {},
   "outputs": [
    {
     "ename": "TypeError",
     "evalue": "unsupported operand type(s) for %: 'tuple' and 'int'",
     "output_type": "error",
     "traceback": [
      "\u001b[1;31m---------------------------------------------------------------------------\u001b[0m",
      "\u001b[1;31mTypeError\u001b[0m                                 Traceback (most recent call last)",
      "Cell \u001b[1;32mIn [99], line 11\u001b[0m\n\u001b[0;32m      8\u001b[0m     \u001b[38;5;28;01mreturn\u001b[39;00m(\u001b[38;5;28;01mNone\u001b[39;00m)\n\u001b[0;32m     10\u001b[0m a\u001b[38;5;241m=\u001b[39m\u001b[38;5;241m1\u001b[39m,\u001b[38;5;241m2\u001b[39m,\u001b[38;5;241m3\u001b[39m,\u001b[38;5;241m4\u001b[39m,\u001b[38;5;241m5\u001b[39m\n\u001b[1;32m---> 11\u001b[0m \u001b[43mmultiply_under10\u001b[49m\u001b[43m(\u001b[49m\u001b[38;5;241;43m*\u001b[39;49m\u001b[43ma\u001b[49m\u001b[43m)\u001b[49m\n",
      "Cell \u001b[1;32mIn [99], line 3\u001b[0m, in \u001b[0;36mmultiply_under10\u001b[1;34m(*nums)\u001b[0m\n\u001b[0;32m      1\u001b[0m \u001b[38;5;28;01mdef\u001b[39;00m \u001b[38;5;21mmultiply_under10\u001b[39m(\u001b[38;5;241m*\u001b[39mnums):\n\u001b[0;32m      2\u001b[0m   answer \u001b[38;5;241m=\u001b[39m \u001b[38;5;241m1\u001b[39m\n\u001b[1;32m----> 3\u001b[0m   \u001b[38;5;28;01mif\u001b[39;00m \u001b[43mnums\u001b[49m\u001b[38;5;241;43m%\u001b[39;49m\u001b[38;5;241;43m1\u001b[39;49m\u001b[38;5;241m==\u001b[39m\u001b[38;5;241m0\u001b[39m \u001b[38;5;129;01mand\u001b[39;00m nums \u001b[38;5;241m<\u001b[39m\u001b[38;5;241m=\u001b[39m \u001b[38;5;241m10\u001b[39m:\n\u001b[0;32m      4\u001b[0m     answer \u001b[38;5;241m=\u001b[39m answer\u001b[38;5;241m*\u001b[39mnums\n\u001b[0;32m      5\u001b[0m     \u001b[38;5;28;01mreturn\u001b[39;00m(answer)\n",
      "\u001b[1;31mTypeError\u001b[0m: unsupported operand type(s) for %: 'tuple' and 'int'"
     ]
    }
   ],
   "source": [
    "def multiply_under10(*nums):\n",
    "  answer = 1\n",
    "  if nums%1==0 and nums <= 10:\n",
    "    answer = answer*nums\n",
    "    return(answer)\n",
    "  else:\n",
    "    print('10이하 정수만 계산 가능합니다')\n",
    "    return(None)\n",
    "\n",
    "a=1,2,3,4,5\n",
    "multiply_under10(*a)"
   ]
  },
  {
   "cell_type": "code",
   "execution_count": 103,
   "metadata": {},
   "outputs": [
    {
     "data": {
      "text/plain": [
       "6.8"
      ]
     },
     "execution_count": 103,
     "metadata": {},
     "output_type": "execute_result"
    }
   ],
   "source": [
    "def mul_under10(*args):\n",
    "  answer = 1\n",
    "  for i in args:\n",
    "    answer *= i\n",
    "  return answer\n",
    "\n",
    "mul_under10(1,2,3.4)"
   ]
  },
  {
   "cell_type": "code",
   "execution_count": 114,
   "metadata": {},
   "outputs": [
    {
     "data": {
      "text/plain": [
       "-12"
      ]
     },
     "execution_count": 114,
     "metadata": {},
     "output_type": "execute_result"
    }
   ],
   "source": [
    "def mul_under10(*args):\n",
    "  answer = 1\n",
    "  for i in args:\n",
    "    if i%1==0 and i<=10:\n",
    "      answer *= i\n",
    "    elif i>10:\n",
    "      pass\n",
    "    else:\n",
    "      print('정수만 입력해주세요.')\n",
    "      return(None)\n",
    "  return answer\n",
    "\n",
    "mul_under10(1,2,3,11,42,-2)"
   ]
  }
 ],
 "metadata": {
  "kernelspec": {
   "display_name": "Python 3.9.6 64-bit",
   "language": "python",
   "name": "python3"
  },
  "language_info": {
   "codemirror_mode": {
    "name": "ipython",
    "version": 3
   },
   "file_extension": ".py",
   "mimetype": "text/x-python",
   "name": "python",
   "nbconvert_exporter": "python",
   "pygments_lexer": "ipython3",
   "version": "3.9.6"
  },
  "orig_nbformat": 4,
  "vscode": {
   "interpreter": {
    "hash": "81794d4967e6c3204c66dcd87b604927b115b27c00565d3d43f05ba2f3a2cb0d"
   }
  }
 },
 "nbformat": 4,
 "nbformat_minor": 2
}
