{
 "cells": [
  {
   "cell_type": "code",
   "execution_count": 4,
   "metadata": {},
   "outputs": [],
   "source": [
    "memory = {1:1, 2:1}\n",
    "\n",
    "def 똥돼지(n):\n",
    "  if memory[n] in memory:\n",
    "    number = memory[n]\n",
    "  else:\n",
    "    memory[n] = 똥돼지[n-1] + 똥돼지[n-2]\n",
    "    number = memory[n]\n",
    "  print(memory)\n",
    "  return number\n",
    "\n",
    "\n"
   ]
  },
  {
   "cell_type": "code",
   "execution_count": 5,
   "metadata": {},
   "outputs": [
    {
     "ename": "KeyError",
     "evalue": "3",
     "output_type": "error",
     "traceback": [
      "\u001b[1;31m---------------------------------------------------------------------------\u001b[0m",
      "\u001b[1;31mKeyError\u001b[0m                                  Traceback (most recent call last)",
      "Cell \u001b[1;32mIn [5], line 1\u001b[0m\n\u001b[1;32m----> 1\u001b[0m 똥돼지(\u001b[39m3\u001b[39;49m)\n",
      "Cell \u001b[1;32mIn [4], line 4\u001b[0m, in \u001b[0;36m똥돼지\u001b[1;34m(n)\u001b[0m\n\u001b[0;32m      3\u001b[0m \u001b[39mdef\u001b[39;00m \u001b[39m똥돼지\u001b[39m(n):\n\u001b[1;32m----> 4\u001b[0m   \u001b[39mif\u001b[39;00m memory[n] \u001b[39min\u001b[39;00m memory:\n\u001b[0;32m      5\u001b[0m     number \u001b[39m=\u001b[39m memory[n]\n\u001b[0;32m      6\u001b[0m   \u001b[39melse\u001b[39;00m:\n",
      "\u001b[1;31mKeyError\u001b[0m: 3"
     ]
    }
   ],
   "source": [
    "똥돼지(2)"
   ]
  }
 ],
 "metadata": {
  "kernelspec": {
   "display_name": "Python 3.9.6 64-bit",
   "language": "python",
   "name": "python3"
  },
  "language_info": {
   "codemirror_mode": {
    "name": "ipython",
    "version": 3
   },
   "file_extension": ".py",
   "mimetype": "text/x-python",
   "name": "python",
   "nbconvert_exporter": "python",
   "pygments_lexer": "ipython3",
   "version": "3.9.6"
  },
  "orig_nbformat": 4,
  "vscode": {
   "interpreter": {
    "hash": "81794d4967e6c3204c66dcd87b604927b115b27c00565d3d43f05ba2f3a2cb0d"
   }
  }
 },
 "nbformat": 4,
 "nbformat_minor": 2
}
